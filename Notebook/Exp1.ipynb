{
 "cells": [
  {
   "cell_type": "code",
   "execution_count": null,
   "id": "23fdafda",
   "metadata": {},
   "outputs": [],
   "source": [
    "import sys\n",
    "max_size = max([sys.getsizeof(record) for record in df_dict])\n",
    "print(f\"Maximum document size: {max_size} bytes\")\n",
    "total_size = sum([sys.getsizeof(record) for record in df_dict])\n",
    "print(f\"Total size of all documents: {total_size} bytes\")\n",
    "print(f\"Total size of all documents in MB: {(total_size)/(1048576)} MB\")\n",
    "##1 mb in bytes\n",
    "##1 MB = 1,048,576 bytes\n"
   ]
  }
 ],
 "metadata": {
  "language_info": {
   "name": "python"
  }
 },
 "nbformat": 4,
 "nbformat_minor": 5
}
